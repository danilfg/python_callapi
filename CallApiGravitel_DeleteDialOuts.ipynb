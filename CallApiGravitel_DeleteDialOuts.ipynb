{
 "cells": [
  {
   "cell_type": "code",
   "execution_count": 9,
   "metadata": {},
   "outputs": [],
   "source": [
    "def RunDeleteDialOuts (idDialouts):\n",
    "    dataResponseDelete = DeleteDialOuts(idDialouts, urlDel, headers, token)\n",
    "    if dataResponseDelete['errorCode'] == 10011:\n",
    "        CompleteDialOuts(idDialouts, urlComplete, headers, token)\n",
    "        dataResponseDelete = DeleteDialOuts(idDialouts, urlDel, headers, token)"
   ]
  },
  {
   "cell_type": "code",
   "execution_count": 10,
   "metadata": {},
   "outputs": [],
   "source": [
    "def CompleteDialOuts(idDialouts, urlComplete, headers, token):\n",
    "    jsonRequest = {'token':'b6fd32c8c32aea8a01e4e9088d889d8b', 'dialoutid':idDialouts}\n",
    "    responseComplete = requests.post(urlComplete, headers=headers, json=jsonRequest)\n",
    "    dataResponseComplete = responseComplete.json()\n",
    "    return (dataResponseComplete)"
   ]
  },
  {
   "cell_type": "code",
   "execution_count": 11,
   "metadata": {},
   "outputs": [],
   "source": [
    "def DeleteDialOuts(idDialouts, urlDel, headers, token):\n",
    "    jsonRequest = {'token':'b6fd32c8c32aea8a01e4e9088d889d8b', 'dialoutid':idDialouts}\n",
    "    responseDelete = requests.post(urlDel, headers=headers, json=jsonRequest)\n",
    "    dataResponseDelete = responseDelete.json()\n",
    "    return (dataResponseDelete)"
   ]
  },
  {
   "cell_type": "code",
   "execution_count": 12,
   "metadata": {},
   "outputs": [],
   "source": [
    "import json\n",
    "import requests\n",
    "\n",
    "urlDel = 'https://callapi.gravitel.ru/api/v1/deletedialout'\n",
    "urlList = 'https://callapi.gravitel.ru/api/v1/listdialouts'\n",
    "urlComplete = 'https://callapi.gravitel.ru/api/v1/completedialout'\n",
    "\n",
    "headers = {'Content-Type':'application/json'}\n",
    "\n",
    "token = {'token':'b6fd32c8c32aea8a01e4e9088d889d8b'}\n",
    "\n",
    "response = requests.post(urlList, headers=headers, json=token)\n",
    "dataResponse = response.json()\n",
    "\n",
    "idDialouts = dataResponse['result'][0]['id']\n",
    "\n",
    "RunDeleteDialOuts(idDialouts)"
   ]
  },
  {
   "cell_type": "code",
   "execution_count": 13,
   "metadata": {},
   "outputs": [
    {
     "name": "stdout",
     "output_type": "stream",
     "text": [
      "946\n"
     ]
    }
   ],
   "source": [
    "print(idDialouts)"
   ]
  },
  {
   "cell_type": "code",
   "execution_count": null,
   "metadata": {},
   "outputs": [],
   "source": []
  }
 ],
 "metadata": {
  "kernelspec": {
   "display_name": "Python 3",
   "language": "python",
   "name": "python3"
  },
  "language_info": {
   "codemirror_mode": {
    "name": "ipython",
    "version": 3
   },
   "file_extension": ".py",
   "mimetype": "text/x-python",
   "name": "python",
   "nbconvert_exporter": "python",
   "pygments_lexer": "ipython3",
   "version": "3.7.4"
  }
 },
 "nbformat": 4,
 "nbformat_minor": 2
}
