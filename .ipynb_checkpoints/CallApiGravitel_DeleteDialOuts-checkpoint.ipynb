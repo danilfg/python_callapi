{
 "cells": [
  {
   "cell_type": "code",
   "execution_count": 9,
   "metadata": {},
   "outputs": [],
   "source": [
    "def RunDeleteDialOuts (idDialouts):\n",
    "    dataResponseDelete = DeleteDialOuts(idDialouts, urlDel, headers, token)\n",
    "    if dataResponseDelete['errorCode'] == 10011:\n",
    "        CompleteDialOuts(idDialouts, urlComplete, headers, token)\n",
    "        dataResponseDelete = DeleteDialOuts(idDialouts, urlDel, headers, token)"
   ]
  },
  {
   "cell_type": "code",
   "execution_count": 10,
   "metadata": {},
   "outputs": [],
   "source": [
    "def CompleteDialOuts(idDialouts, urlComplete, headers, token):\n",
    "    jsonRequest = {'token':'b6fd32c8c32aea8a01e4e9088d889d8b', 'dialoutid':idDialouts}\n",
    "    responseComplete = requests.post(urlComplete, headers=headers, json=jsonRequest)\n",
    "    dataResponseComplete = responseComplete.json()\n",
    "    return (dataResponseComplete)"
   ]
  },
  {
   "cell_type": "code",
   "execution_count": 11,
   "metadata": {},
   "outputs": [],
   "source": [
    "def DeleteDialOuts(idDialouts, urlDel, headers, token):\n",
    "    jsonRequest = {'token':'b6fd32c8c32aea8a01e4e9088d889d8b', 'dialoutid':idDialouts}\n",
    "    responseDelete = requests.post(urlDel, headers=headers, json=jsonRequest)\n",
    "    dataResponseDelete = responseDelete.json()\n",
    "    return (dataResponseDelete)"
   ]
  },
  {
   "cell_type": "code",
   "execution_count": 12,
   "metadata": {},
   "outputs": [],
   "source": [
    "import json\n",
    "import requests\n",
    "\n",
    "urlDel = 'https://callapi.gravitel.ru/api/v1/deletedialout'\n",
    "urlList = 'https://callapi.gravitel.ru/api/v1/listdialouts'\n",
    "urlComplete = 'https://callapi.gravitel.ru/api/v1/completedialout'\n",
    "\n",
    "headers = {'Content-Type':'application/json'}\n",
    "\n",
    "token = {'token':'b6fd32c8c32aea8a01e4e9088d889d8b'}\n",
    "\n",
    "response = requests.post(urlList, headers=headers, json=token)\n",
    "dataResponse = response.json()\n",
    "\n",
    "idDialouts = dataResponse['result'][0]['id']\n",
    "\n",
    "RunDeleteDialOuts(idDialouts)"
   ]
  },
  {
   "cell_type": "code",
   "execution_count": 8,
   "metadata": {},
   "outputs": [],
   "source": [
    "import requests\n",
    "\n",
    "def RunDeleteDialOuts():\n",
    "    responseDelete = DeleteDialOuts()\n",
    "    if responseDelete['status'] == 'error':\n",
    "        if responseDelete['errorCode'] == 10011:\n",
    "            CompleteDialOuts()\n",
    "            DeleteDialOuts()\n",
    "\n",
    "def DeleteDialOuts():\n",
    "    allDialOuts = requests.post(urlList, headers=headers, json={'token': tokenEnter}).json()\n",
    "    jsonDeleteDial = {'token': tokenEnter, 'dialoutid': allDialOuts['result'][0]['id']}\n",
    "    responseDelete = requests.post(urlDel, headers=headers, json=jsonDeleteDial).json()\n",
    "    if responseDelete['status'] != 'error':\n",
    "        print (\"Delete ID:\", allDialOuts['result'][0]['id'])\n",
    "\n",
    "    return (responseDelete)\n",
    "\n",
    "def CompleteDialOuts():\n",
    "    listForCompleteDial = requests.post(urlList, headers=headers, json={'token': tokenEnter}).json()\n",
    "    jsonCompleteDial = {'token': tokenEnter, 'dialoutid': listForCompleteDial['result'][0]['id']}\n",
    "    requests.post(urlComplete, headers=headers, json=jsonCompleteDial)\n",
    "\n",
    "def CheckToken():\n",
    "    forCheckToken = requests.post(urlList, headers=headers, json={'token': tokenEnter}).json()\n",
    "    if forCheckToken['status'] == 'error':\n",
    "        print(\"May be invalid token!\")\n",
    "        exit()\n",
    "\n"
   ]
  },
  {
   "cell_type": "code",
   "execution_count": 10,
   "metadata": {},
   "outputs": [
    {
     "name": "stdout",
     "output_type": "stream",
     "text": [
      "Enter token CallApi: cd\n"
     ]
    },
    {
     "ename": "KeyError",
     "evalue": "'result'",
     "output_type": "error",
     "traceback": [
      "\u001b[1;31m---------------------------------------------------------------------------\u001b[0m",
      "\u001b[1;31mKeyError\u001b[0m                                  Traceback (most recent call last)",
      "\u001b[1;32m<ipython-input-10-4ecc8421c96b>\u001b[0m in \u001b[0;36m<module>\u001b[1;34m\u001b[0m\n\u001b[0;32m      8\u001b[0m \u001b[1;33m\u001b[0m\u001b[0m\n\u001b[0;32m      9\u001b[0m \u001b[0mallDialOuts\u001b[0m \u001b[1;33m=\u001b[0m \u001b[0mrequests\u001b[0m\u001b[1;33m.\u001b[0m\u001b[0mpost\u001b[0m\u001b[1;33m(\u001b[0m\u001b[0murlList\u001b[0m\u001b[1;33m,\u001b[0m \u001b[0mheaders\u001b[0m\u001b[1;33m=\u001b[0m\u001b[0mheaders\u001b[0m\u001b[1;33m,\u001b[0m \u001b[0mjson\u001b[0m\u001b[1;33m=\u001b[0m\u001b[1;33m{\u001b[0m\u001b[1;34m'token'\u001b[0m\u001b[1;33m:\u001b[0m \u001b[0mtokenEnter\u001b[0m\u001b[1;33m}\u001b[0m\u001b[1;33m)\u001b[0m\u001b[1;33m.\u001b[0m\u001b[0mjson\u001b[0m\u001b[1;33m(\u001b[0m\u001b[1;33m)\u001b[0m\u001b[1;33m\u001b[0m\u001b[1;33m\u001b[0m\u001b[0m\n\u001b[1;32m---> 10\u001b[1;33m \u001b[0mprint\u001b[0m\u001b[1;33m(\u001b[0m\u001b[1;34m\"Number of Dialouts:\"\u001b[0m\u001b[1;33m,\u001b[0m \u001b[0mlen\u001b[0m\u001b[1;33m(\u001b[0m\u001b[0mallDialOuts\u001b[0m\u001b[1;33m[\u001b[0m\u001b[1;34m'result'\u001b[0m\u001b[1;33m]\u001b[0m\u001b[1;33m)\u001b[0m\u001b[1;33m,\u001b[0m \u001b[1;33m)\u001b[0m\u001b[1;33m\u001b[0m\u001b[1;33m\u001b[0m\u001b[0m\n\u001b[0m\u001b[0;32m     11\u001b[0m \u001b[1;33m\u001b[0m\u001b[0m\n\u001b[0;32m     12\u001b[0m \u001b[0mCheckToken\u001b[0m\u001b[1;33m(\u001b[0m\u001b[1;33m)\u001b[0m\u001b[1;33m\u001b[0m\u001b[1;33m\u001b[0m\u001b[0m\n",
      "\u001b[1;31mKeyError\u001b[0m: 'result'"
     ]
    }
   ],
   "source": [
    "\n",
    "\n",
    "urlDel = 'https://callapi.gravitel.ru/api/v1/deletedialout'\n",
    "urlList = 'https://callapi.gravitel.ru/api/v1/listdialouts'\n",
    "urlComplete = 'https://callapi.gravitel.ru/api/v1/completedialout'\n",
    "\n",
    "headers = {'Content-Type': 'application/json'}\n",
    "\n",
    "tokenEnter = input(\"Enter token CallApi: \")\n",
    "CheckToken()\n",
    "\n",
    "allDialOuts = requests.post(urlList, headers=headers, json={'token': tokenEnter}).json()\n",
    "print(\"Number of Dialouts:\", len(allDialOuts['result']), )\n",
    "\n",
    "\n",
    "\n",
    "counts = int(input(\"Enter how many auto-dialing to remove: \"))\n",
    "num = counts\n",
    "while counts > 0:\n",
    "    RunDeleteDialOuts()\n",
    "    counts -= 1\n",
    "print(\"Delete: \", num, \"autodials\")"
   ]
  },
  {
   "cell_type": "code",
   "execution_count": 7,
   "metadata": {},
   "outputs": [
    {
     "name": "stdout",
     "output_type": "stream",
     "text": [
      "13\n"
     ]
    }
   ],
   "source": [
    "urlList = 'https://callapi.gravitel.ru/api/v1/listdialouts'\n",
    "headers = {'Content-Type': 'application/json'}\n",
    "\n",
    "allDialOuts = requests.post(urlList, headers=headers, json={'token': 'b6fd32c8c32aea8a01e4e9088d889d8b'}).json()\n",
    "\n",
    "print(len(allDialOuts['result']))"
   ]
  },
  {
   "cell_type": "code",
   "execution_count": null,
   "metadata": {},
   "outputs": [],
   "source": []
  }
 ],
 "metadata": {
  "kernelspec": {
   "display_name": "Python 3",
   "language": "python",
   "name": "python3"
  },
  "language_info": {
   "codemirror_mode": {
    "name": "ipython",
    "version": 3
   },
   "file_extension": ".py",
   "mimetype": "text/x-python",
   "name": "python",
   "nbconvert_exporter": "python",
   "pygments_lexer": "ipython3",
   "version": "3.7.4"
  }
 },
 "nbformat": 4,
 "nbformat_minor": 2
}
